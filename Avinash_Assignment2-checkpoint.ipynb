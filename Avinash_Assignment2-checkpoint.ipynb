{
 "cells": [
  {
   "cell_type": "code",
   "execution_count": 165,
   "metadata": {},
   "outputs": [
    {
     "name": "stdout",
     "output_type": "stream",
     "text": [
      "8\n"
     ]
    }
   ],
   "source": [
    "##Solution for Task 1: 1.1\n",
    "\n",
    "def myreduce(anyfunc, sequence):\n",
    "    result = sequence[0]\n",
    "    for item in sequence[1:]:\n",
    "        result = anyfunc(result, item)\n",
    "    return result\n",
    "def mul(a,b): \n",
    "    return a*b\n",
    "\n",
    "print(myreduce(mul, [1,2,4])) "
   ]
  },
  {
   "cell_type": "code",
   "execution_count": 167,
   "metadata": {},
   "outputs": [
    {
     "name": "stdout",
     "output_type": "stream",
     "text": [
      "[1, 3, 4, 5]\n"
     ]
    }
   ],
   "source": [
    "##Solution for Task 1: 1.2\n",
    "\n",
    "def myfilter(anyfunc, sequence):\n",
    "    result = []\n",
    "    for item in sequence:\n",
    "        if anyfunc(item):\n",
    "            result.append(item)\n",
    "    return result\n",
    "\n",
    "def ispositive(x):\n",
    "    if (x <= 0): \n",
    "        return False \n",
    "    else: \n",
    "        return True\n",
    "print (myfilter(ispositive, [0,1,-2,3,4,5]))"
   ]
  },
  {
   "cell_type": "code",
   "execution_count": 152,
   "metadata": {},
   "outputs": [
    {
     "name": "stdout",
     "output_type": "stream",
     "text": [
      "['A', 'C', 'A', 'D', 'G', 'I', 'L', 'D']\n",
      "['x', 'xx', 'xxx', 'xxxx', 'y', 'yy', 'yyy', 'yyyy', 'z', 'zz', 'zzz', 'zzzz']\n",
      "['x', 'y', 'z', 'xx', 'yy', 'zz', 'xxx', 'yyy', 'zzz', 'xxxx', 'yyyy', 'zzzz']\n",
      "[[2], [3], [4], [3], [4], [5], [4], [5], [6]]\n",
      "[[2, 3, 4, 5], [3, 4, 5, 6], [4, 5, 6, 7], [5, 6, 7, 8]]\n",
      "[(1, 1), (2, 1), (3, 1), (1, 2), (2, 2), (3, 2), (1, 3), (2, 3), (3, 3)]\n"
     ]
    }
   ],
   "source": [
    "##Solution for Task 1: 2\n",
    "\n",
    "word = \"ACADGILD\"\n",
    "alphabet_list = []\n",
    "for alphabet in word:\n",
    "    alphabet_list.append(alphabet)\n",
    "print (alphabet_list)\n",
    "\n",
    "#########\n",
    "# Compress above for loop into a single list comprehension using technique [i <Upper for condition> <lower for condition>]\n",
    "input_list = ['x','y','z']\n",
    "result = [ item*num for item in input_list for num in range(1,5)]\n",
    "print(result)\n",
    "\n",
    "#########\n",
    "# Compress above for loop into a single list comprehension using technique [i <Upper for condition> <lower for condition>]\n",
    "input_list = ['x','y','z']\n",
    "result = [ item*num for num in range(1,5) for item in input_list  ]\n",
    "print(result)\n",
    "\n",
    "#########\n",
    "input_list = [2,3,4]\n",
    "result = [ [item+num] for item in input_list for num in range(0,3)]\n",
    "print(result)\n",
    "\n",
    "#########\n",
    "input_list = [2,3,4,5]\n",
    "result = [ [item+num for item in input_list] for num in range(0,4)  ]\n",
    "print(result)\n",
    "\n",
    "#########\n",
    "input_list=[1,2,3]\n",
    "result = [ (b,a) for a in input_list for b in input_list]\n",
    "print(result)"
   ]
  },
  {
   "cell_type": "code",
   "execution_count": 111,
   "metadata": {},
   "outputs": [
    {
     "name": "stdout",
     "output_type": "stream",
     "text": [
      "no. of elements: 2\n",
      "a\n",
      "ab\n",
      "['a', 'ab']\n",
      "2\n"
     ]
    },
    {
     "data": {
      "text/plain": [
       "['ab']"
      ]
     },
     "execution_count": 111,
     "metadata": {},
     "output_type": "execute_result"
    }
   ],
   "source": [
    "##Solution for Task 1: 3\n",
    "\n",
    "list1=[]\n",
    "n=int(input('no. of elements: '))\n",
    "for i in range(0,n):\n",
    "    element =input()\n",
    "    list1.append(element)\n",
    "print(list1)\n",
    "length=max(len(x) for x in list1)\n",
    "print(length)\n",
    "[x for x in list1 if len(x) == length]"
   ]
  },
  {
   "cell_type": "code",
   "execution_count": 143,
   "metadata": {},
   "outputs": [
    {
     "data": {
      "text/plain": [
       "2.9047375096555625"
      ]
     },
     "execution_count": 143,
     "metadata": {},
     "output_type": "execute_result"
    }
   ],
   "source": [
    "##Solution for Task 2: 1.1\n",
    "\n",
    "class Triangle:\n",
    " \n",
    "    def __init__(self,a,b,c):\n",
    "        self.a = float(a)\n",
    "        self.b = float(b)\n",
    "        self.c = float(c)\n",
    " \n",
    "    def area(self):\n",
    "        s=(self.a + self.b + self.c)/2\n",
    "        return((s*(s-self.a)*(s-self.b)*(s-self.c))**0.5)\n",
    "t = Triangle(2, 3, 4)\n",
    "t.area()"
   ]
  },
  {
   "cell_type": "code",
   "execution_count": 168,
   "metadata": {},
   "outputs": [
    {
     "data": {
      "text/plain": [
       "['abc']"
      ]
     },
     "execution_count": 168,
     "metadata": {},
     "output_type": "execute_result"
    }
   ],
   "source": [
    "##Solution for Task 2: 1.2\n",
    "\n",
    "def filter_long_words(words,n):\n",
    "    return filter(lambda a: len(a)>n,words)\n",
    "list(filter_long_words(['a','ab','abc'],2))"
   ]
  },
  {
   "cell_type": "code",
   "execution_count": 47,
   "metadata": {},
   "outputs": [
    {
     "name": "stdout",
     "output_type": "stream",
     "text": [
      "no. of elements: 2\n",
      "ab\n",
      "abc\n",
      "[2, 3]\n"
     ]
    }
   ],
   "source": [
    "##Solution for Task 2: 2.1\n",
    "\n",
    "words_input=[]\n",
    "n=int(input('no. of elements: '))\n",
    "for i in range(0,n):\n",
    "    element =input()\n",
    "    words_input.append(element)\n",
    "def find_length(words_input):\n",
    "    lengths = []\n",
    "    for word in words_input:\n",
    "        lengths.append(len(word))\n",
    "    return lengths\n",
    "print(find_length(words_input))"
   ]
  },
  {
   "cell_type": "code",
   "execution_count": 169,
   "metadata": {},
   "outputs": [
    {
     "data": {
      "text/plain": [
       "True"
      ]
     },
     "execution_count": 169,
     "metadata": {},
     "output_type": "execute_result"
    }
   ],
   "source": [
    "##Solution for Task 2: 2.2\n",
    "\n",
    "def is_vowel(char):\n",
    "    vowels = ('a', 'e', 'i', 'o', 'u','A','E','I','O','U')\n",
    "    if char not in vowels:\n",
    "        return False\n",
    "    return True\n",
    "is_vowel('E')"
   ]
  }
 ],
 "metadata": {
  "kernelspec": {
   "display_name": "Python 3",
   "language": "python",
   "name": "python3"
  },
  "language_info": {
   "codemirror_mode": {
    "name": "ipython",
    "version": 3
   },
   "file_extension": ".py",
   "mimetype": "text/x-python",
   "name": "python",
   "nbconvert_exporter": "python",
   "pygments_lexer": "ipython3",
   "version": "3.7.1"
  }
 },
 "nbformat": 4,
 "nbformat_minor": 2
}
